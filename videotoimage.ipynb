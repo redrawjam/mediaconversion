# Mount Google Drive
from google.colab import drive
drive.mount('/content/drive')

# Import OpenCV library
import cv2

# Set up video path
video_path = '/content/drive/MyDrive/conversion/videoconverter/videoinput/my_video.mp4'

# Set up output folder path
output_folder_path = '/content/drive/MyDrive/conversion/videoconverter/imageoutput'

# Define function to extract frames from a video
def extract_frames(video_path, output_folder_path):
    vidcap = cv2.VideoCapture(video_path)
    success,image = vidcap.read()
    count = 0
    while success:
        # Save image to output folder
        output_path = f"{output_folder_path}/frame_{count}.jpg"
        cv2.imwrite(output_path, image)
        # Read next frame
        success,image = vidcap.read()
        count += 1
    print(f"Extracted {count} frames from {video_path} and saved to {output_folder_path}")

# Extract frames from video and save to output folder
extract_frames(video_path, output_folder_path)
