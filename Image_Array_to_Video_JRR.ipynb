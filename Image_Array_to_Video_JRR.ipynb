{
  "nbformat": 4,
  "nbformat_minor": 0,
  "metadata": {
    "colab": {
      "provenance": [],
      "authorship_tag": "ABX9TyOhy0g/qt8M0wgabsN06/7X",
      "include_colab_link": true
    },
    "kernelspec": {
      "name": "python3",
      "display_name": "Python 3"
    },
    "language_info": {
      "name": "python"
    }
  },
  "cells": [
    {
      "cell_type": "markdown",
      "metadata": {
        "id": "view-in-github",
        "colab_type": "text"
      },
      "source": [
        "<a href=\"https://colab.research.google.com/github/redrawjam/mediaconversion/blob/main/Image_Array_to_Video_JRR.ipynb\" target=\"_parent\"><img src=\"https://colab.research.google.com/assets/colab-badge.svg\" alt=\"Open In Colab\"/></a>"
      ]
    },
    {
      "cell_type": "code",
      "execution_count": null,
      "metadata": {
        "id": "tcLtfhrdOp7-"
      },
      "outputs": [],
      "source": [
        "# Mount Google Drive\n",
        "from google.colab import drive\n",
        "drive.mount('/content/drive')\n",
        "\n",
        "# Import OpenCV library\n",
        "import cv2\n",
        "\n",
        "# Set up input folder path\n",
        "input_folder_path = '/content/drive/MyDrive/conversion/imageconverter/imageinput/'\n",
        "\n",
        "# Set up output video path\n",
        "output_video_path = '/content/drive/MyDrive/conversion/imageconverter/videooutput/output_video.mp4'\n",
        "\n",
        "# Define function to create video from frames\n",
        "def create_video(frames, output_video_path, fps=30):\n",
        "    height, width, _ = frames[0].shape\n",
        "    fourcc = cv2.VideoWriter_fourcc(*'mp4v')\n",
        "    out = cv2.VideoWriter(output_video_path, fourcc, fps, (width, height))\n",
        "    for frame in frames:\n",
        "        out.write(frame)\n",
        "    out.release()\n",
        "    print(f\"Created video at {output_video_path}\")\n",
        "\n",
        "# Read frames from input folder\n",
        "frames = []\n",
        "#modify the range variable below to match the number of input frames\n",
        "for i in range(216):\n",
        "    # Read image from input folder\n",
        "    input_path = f\"{input_folder_path}/frame_{i}.jpg\"\n",
        "    image = cv2.imread(input_path)\n",
        "    frames.append(image)\n",
        "\n",
        "# Create video from frames\n",
        "create_video(frames, output_video_path)"
      ]
    }
  ]
}