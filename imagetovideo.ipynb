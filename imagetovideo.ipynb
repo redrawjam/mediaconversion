# Mount Google Drive
from google.colab import drive
drive.mount('/content/drive')

# Import OpenCV library
import cv2

# Set up input folder path
input_folder_path = '/content/drive/MyDrive/conversion/imageconverter/imageinput/'

# Set up output video path
output_video_path = '/content/drive/MyDrive/conversion/imageconverter/videooutput/output_video.mp4'

# Define function to create video from frames
def create_video(frames, output_video_path, fps=30):
    height, width, _ = frames[0].shape
    fourcc = cv2.VideoWriter_fourcc(*'mp4v')
    out = cv2.VideoWriter(output_video_path, fourcc, fps, (width, height))
    for frame in frames:
        out.write(frame)
    out.release()
    print(f"Created video at {output_video_path}")

# Read frames from input folder
frames = []
#modify the range variable below to match the number of input frames
for i in range(216):
    # Read image from input folder
    input_path = f"{input_folder_path}/frame_{i}.jpg"
    image = cv2.imread(input_path)
    frames.append(image)

# Create video from frames
create_video(frames, output_video_path)
