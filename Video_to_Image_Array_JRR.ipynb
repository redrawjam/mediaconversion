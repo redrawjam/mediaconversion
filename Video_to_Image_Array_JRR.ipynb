{
  "nbformat": 4,
  "nbformat_minor": 0,
  "metadata": {
    "colab": {
      "provenance": [],
      "authorship_tag": "ABX9TyOXZBrAkU2s2mM0PMvPjW8x",
      "include_colab_link": true
    },
    "kernelspec": {
      "name": "python3",
      "display_name": "Python 3"
    },
    "language_info": {
      "name": "python"
    }
  },
  "cells": [
    {
      "cell_type": "markdown",
      "metadata": {
        "id": "view-in-github",
        "colab_type": "text"
      },
      "source": [
        "<a href=\"https://colab.research.google.com/github/redrawjam/mediaconversion/blob/main/Video_to_Image_Array_JRR.ipynb\" target=\"_parent\"><img src=\"https://colab.research.google.com/assets/colab-badge.svg\" alt=\"Open In Colab\"/></a>"
      ]
    },
    {
      "cell_type": "code",
      "execution_count": 1,
      "metadata": {
        "colab": {
          "base_uri": "https://localhost:8080/"
        },
        "id": "Rqa1K3vTJOvU",
        "outputId": "9e156dd1-4ed3-463d-b41e-3651be5b4305"
      },
      "outputs": [
        {
          "output_type": "stream",
          "name": "stdout",
          "text": [
            "Mounted at /content/drive\n",
            "Extracted 718 frames from /content/drive/MyDrive/conversion/videoconverter/videoinput/my_video.mp4 and saved to /content/drive/MyDrive/conversion/videoconverter/imageoutput\n"
          ]
        }
      ],
      "source": [
        "# Mount Google Drive\n",
        "from google.colab import drive\n",
        "drive.mount('/content/drive')\n",
        "\n",
        "# Import OpenCV library\n",
        "import cv2\n",
        "\n",
        "# Set up video path\n",
        "video_path = '/content/drive/MyDrive/conversion/videoconverter/videoinput/my_video.mp4'\n",
        "\n",
        "# Set up output folder path\n",
        "output_folder_path = '/content/drive/MyDrive/conversion/videoconverter/imageoutput'\n",
        "\n",
        "# Define function to extract frames from a video\n",
        "def extract_frames(video_path, output_folder_path):\n",
        "    vidcap = cv2.VideoCapture(video_path)\n",
        "    success,image = vidcap.read()\n",
        "    count = 0\n",
        "    while success:\n",
        "        # Save image to output folder\n",
        "        output_path = f\"{output_folder_path}/frame_{count}.jpg\"\n",
        "        cv2.imwrite(output_path, image)\n",
        "        # Read next frame\n",
        "        success,image = vidcap.read()\n",
        "        count += 1\n",
        "    print(f\"Extracted {count} frames from {video_path} and saved to {output_folder_path}\")\n",
        "\n",
        "# Extract frames from video and save to output folder\n",
        "extract_frames(video_path, output_folder_path)"
      ]
    }
  ]
}